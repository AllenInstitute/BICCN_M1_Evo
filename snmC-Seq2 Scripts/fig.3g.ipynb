{
 "cells": [
  {
   "cell_type": "code",
   "execution_count": 1,
   "metadata": {
    "ExecuteTime": {
     "end_time": "2020-11-30T22:51:21.430980Z",
     "start_time": "2020-11-30T22:51:20.687437Z"
    }
   },
   "outputs": [],
   "source": [
    "import pandas as pd\n",
    "import sys\n",
    "sys.path.append('PATH-TO-CODE/misc/')\n",
    "from methylpydmr import MethylPyDMR\n",
    "import seaborn as sns\n",
    "import matplotlib.pyplot as plt\n",
    "import matplotlib\n",
    "from pathlib import Path\n",
    "import numpy as np\n",
    "# import anndata\n",
    "# import mygene\n"
   ]
  },
  {
   "cell_type": "code",
   "execution_count": 2,
   "metadata": {
    "ExecuteTime": {
     "end_time": "2020-11-30T22:51:21.435064Z",
     "start_time": "2020-11-30T22:51:21.432676Z"
    }
   },
   "outputs": [],
   "source": [
    "nonn = ''\n",
    "sp_list = ['Human','Marmoset','Mouse']\n"
   ]
  },
  {
   "cell_type": "code",
   "execution_count": 3,
   "metadata": {
    "ExecuteTime": {
     "end_time": "2020-11-30T22:53:00.298309Z",
     "start_time": "2020-11-30T22:51:21.436722Z"
    }
   },
   "outputs": [],
   "source": [
    "dmrds_list = { sp:MethylPyDMR(f'PATH-TO-ANALYSIS/{sp}/subclass/dmr/subclass_dmr_rms_results_collapsed.tsv') for sp in sp_list }"
   ]
  },
  {
   "cell_type": "code",
   "execution_count": 4,
   "metadata": {
    "ExecuteTime": {
     "end_time": "2020-11-30T22:53:01.033881Z",
     "start_time": "2020-11-30T22:53:00.300256Z"
    },
    "scrolled": true
   },
   "outputs": [
    {
     "name": "stderr",
     "output_type": "stream",
     "text": [
      "/home/wtian/local/anaconda3/envs/cemba-mapping/lib/python3.7/site-packages/ipykernel_launcher.py:23: FutureWarning: Sorting because non-concatenation axis is not aligned. A future version\n",
      "of pandas will change to not sort by default.\n",
      "\n",
      "To accept the future behavior, pass 'sort=False'.\n",
      "\n",
      "To retain the current behavior and silence the warning, pass 'sort=True'.\n",
      "\n",
      "/home/wtian/local/anaconda3/envs/cemba-mapping/lib/python3.7/site-packages/ipykernel_launcher.py:29: FutureWarning: Sorting because non-concatenation axis is not aligned. A future version\n",
      "of pandas will change to not sort by default.\n",
      "\n",
      "To accept the future behavior, pass 'sort=False'.\n",
      "\n",
      "To retain the current behavior and silence the warning, pass 'sort=True'.\n",
      "\n"
     ]
    }
   ],
   "source": [
    "spdf_list = []\n",
    "sp_hypdmr_count = []\n",
    "for sp in sp_list:\n",
    "    df = {}\n",
    "    dmrcount = {}\n",
    "    dmrds = dmrds_list[sp]\n",
    "    for sample in dmrds.samples:\n",
    "        hypo_bed = dmrds.hypo_bed(sample)\n",
    "        hyper_bed = dmrds.hyper_bed(sample)\n",
    "        df[sample] = [-(hypo_bed['end']+250-hypo_bed['start']+250).sum(),\n",
    "                      (hyper_bed['end']+250-hyper_bed['start']+250).sum()]\n",
    "        dmrcount[sample] =len(hypo_bed)#+len(hyper_bed)\n",
    "#         df[sample] = [-len(dmrds.hypo_bed(sample)), len(dmrds.hyper_bed(sample))]\n",
    "    df = pd.DataFrame.from_dict(df)\n",
    "    df.index=['hypo','hyper']\n",
    "    df = df.T\n",
    "    df.columns = pd.MultiIndex.from_product([[sp], df.columns])\n",
    "    spdf_list.append(df)\n",
    "    \n",
    "    dmrcount = pd.DataFrame.from_dict(dmrcount, orient='index', columns=[sp])\n",
    "    sp_hypdmr_count.append(dmrcount)\n",
    "    \n",
    "spdf = pd.concat(spdf_list, axis=1)\n",
    "spdf.fillna(0, inplace=True)\n",
    "spdf['sorter'] = spdf[('Human','hyper')]-spdf[('Human','hypo')]\n",
    "spdf = spdf.sort_values('sorter', ascending=False)\n",
    "spdf.drop(columns='sorter', inplace=True)\n",
    "\n",
    "sp_hypdmr_count = pd.concat(sp_hypdmr_count, axis=1)\n",
    "sp_hypdmr_count = sp_hypdmr_count.fillna(0).astype(int)\n"
   ]
  },
  {
   "cell_type": "code",
   "execution_count": null,
   "metadata": {},
   "outputs": [],
   "source": []
  },
  {
   "cell_type": "code",
   "execution_count": 5,
   "metadata": {
    "ExecuteTime": {
     "end_time": "2020-11-30T22:53:01.037392Z",
     "start_time": "2020-11-30T22:53:01.035363Z"
    }
   },
   "outputs": [],
   "source": [
    "samples = spdf.index"
   ]
  },
  {
   "cell_type": "code",
   "execution_count": 6,
   "metadata": {
    "ExecuteTime": {
     "end_time": "2020-11-30T22:53:01.051789Z",
     "start_time": "2020-11-30T22:53:01.038688Z"
    }
   },
   "outputs": [],
   "source": [
    "sp_countC = {}\n",
    "for sp in sp_list:\n",
    "    countC = np.loadtxt(f'PATH-TO-ANALYSIS/{sp}/subclass/countC.rlt', dtype=str)\n",
    "    countC = pd.DataFrame(countC.reshape(-1,2), columns=['subclass','c_count'])\n",
    "    countC['subclass'] = countC['subclass'].apply(lambda x: x.split('.')[0])\n",
    "    countC['c_count'] = countC['c_count'].astype(int)\n",
    "    countC.set_index('subclass', inplace=True)\n",
    "    sp_countC[sp] = countC"
   ]
  },
  {
   "cell_type": "code",
   "execution_count": 35,
   "metadata": {
    "ExecuteTime": {
     "end_time": "2020-11-30T23:27:50.787648Z",
     "start_time": "2020-11-30T23:27:50.784708Z"
    }
   },
   "outputs": [],
   "source": [
    "sample_rename_dict = {'L5_IT':'L5 IT', 'L2_3_IT':'L2-3 IT', 'Lamp5':'Lamp5', 'Pvalb':'Pvalb', \n",
    "                     'Vip':'Vip', 'Sst':'Sst', 'L6_CT':'L6 CT', 'L6_IT':'L6 IT', \n",
    "                     'Sst_Chodl':'Sst Chodl', 'Sncg':'Sncg', 'L6b':'L6b', 'L6_IT_Car3':'L6 IT Car3', \n",
    "                     'L5_6_NP':'L5-6 NP', 'L5_ET':'L5 ET', 'Meis2':'Meis2'}"
   ]
  },
  {
   "cell_type": "code",
   "execution_count": 37,
   "metadata": {
    "ExecuteTime": {
     "end_time": "2020-11-30T23:28:00.176217Z",
     "start_time": "2020-11-30T23:27:59.690720Z"
    }
   },
   "outputs": [
    {
     "data": {
      "image/png": "[encoded data removed]",
      "text/plain": [
       "<Figure size 432x432 with 3 Axes>"
      ]
     },
     "metadata": {
      "needs_background": "light"
     },
     "output_type": "display_data"
    }
   ],
   "source": [
    "# spdmrnormed_hypo = -spdmrnormed['hypo']\n",
    "fig, axes = plt.subplots(1,3, figsize=(6,6))\n",
    "###### fig, axes = plt.subplots(1,3, figsize=(15,6))\n",
    "for i,sp in enumerate(sp_list):\n",
    "    countC = sp_countC[sp]\n",
    "    spdmrnormed = spdf[sp].apply(lambda x: x/countC.loc[x.name, 'c_count'] if x.name in countC.index else np.nan, axis=1)\n",
    "    spdmrnormed_hypo = -spdmrnormed['hypo'][['Lamp5','Sncg','Vip','Sst_Chodl','Sst','Pvalb','L2_3_IT','L5_IT','L6_IT','L6_IT_Car3','L5_ET','L5_6_NP','L6_CT','L6b'][::-1]]\n",
    "    spdmrnormed_hypo = spdmrnormed_hypo.rename(sample_rename_dict)\n",
    "    spdmrnormed_hypo.plot(kind = 'barh', stacked=True, ax=axes[i], zorder=10)    \n",
    "    \n",
    "    axes[i].set_xlim(0, 0.4)\n",
    "    axes[i].set_title(sp, fontsize=18)\n",
    "#     axes[i].grid(True,zorder=-10)\n",
    "    \n",
    "    axes[i].set_xticks([0,0.2,0.4])\n",
    "    axes[i].set_xticklabels([0,0.2,0.4])\n",
    "    \n",
    "    axes[i].tick_params(labelsize=16, length=0)\n",
    "    if i!=0:\n",
    "        axes[i].set_yticklabels([])\n",
    "        \n",
    "# axes[1].set_xlabel('DMR relative length', fontsize=18)\n",
    "plt.tight_layout()\n"
   ]
  },
  {
   "cell_type": "code",
   "execution_count": null,
   "metadata": {},
   "outputs": [],
   "source": []
  }
 ],
 "metadata": {
  "hide_input": false,
  "kernelspec": {
   "display_name": "Python [conda env:cemba-mapping]",
   "language": "python",
   "name": "conda-env-cemba-mapping-py"
  },
  "language_info": {
   "codemirror_mode": {
    "name": "ipython",
    "version": 3
   },
   "file_extension": ".py",
   "mimetype": "text/x-python",
   "name": "python",
   "nbconvert_exporter": "python",
   "pygments_lexer": "ipython3",
   "version": "3.7.0"
  },
  "toc": {
   "base_numbering": 1,
   "nav_menu": {},
   "number_sections": true,
   "sideBar": true,
   "skip_h1_title": false,
   "title_cell": "Table of Contents",
   "title_sidebar": "Contents",
   "toc_cell": false,
   "toc_position": {
    "height": "calc(100% - 180px)",
    "left": "10px",
    "top": "150px",
    "width": "207.528px"
   },
   "toc_section_display": true,
   "toc_window_display": false
  },
  "varInspector": {
   "cols": {
    "lenName": 16,
    "lenType": 16,
    "lenVar": 40
   },
   "kernels_config": {
    "python": {
     "delete_cmd_postfix": "",
     "delete_cmd_prefix": "del ",
     "library": "var_list.py",
     "varRefreshCmd": "print(var_dic_list())"
    },
    "r": {
     "delete_cmd_postfix": ") ",
     "delete_cmd_prefix": "rm(",
     "library": "var_list.r",
     "varRefreshCmd": "cat(var_dic_list()) "
    }
   },
   "types_to_exclude": [
    "module",
    "function",
    "builtin_function_or_method",
    "instance",
    "_Feature"
   ],
   "window_display": false
  }
 },
 "nbformat": 4,
 "nbformat_minor": 2
}
