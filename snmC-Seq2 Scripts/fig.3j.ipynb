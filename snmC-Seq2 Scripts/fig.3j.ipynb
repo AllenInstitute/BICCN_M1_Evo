{
 "cells": [
  {
   "cell_type": "code",
   "execution_count": 1,
   "metadata": {
    "ExecuteTime": {
     "end_time": "2020-11-30T22:07:16.759186Z",
     "start_time": "2020-11-30T22:07:14.757877Z"
    }
   },
   "outputs": [],
   "source": [
    "import pandas as pd\n",
    "from pathlib import Path\n",
    "import seaborn as sns\n",
    "import matplotlib.pyplot as plt\n",
    "from sklearn.preprocessing import MinMaxScaler\n",
    "from sklearn.manifold import TSNE\n",
    "from umap import UMAP\n",
    "import matplotlib \n",
    "import numpy as np"
   ]
  },
  {
   "cell_type": "code",
   "execution_count": 2,
   "metadata": {
    "ExecuteTime": {
     "end_time": "2020-11-30T22:07:16.786120Z",
     "start_time": "2020-11-30T22:07:16.760728Z"
    }
   },
   "outputs": [],
   "source": [
    "jaspar_table_dir = Path('PATH-TO-ANALYSIS/misc/jaspar2020/')\n",
    "tables_to_use = [jaspar_table_dir/'jaspar2020_mCtf.csv', \n",
    "                 jaspar_table_dir/'jaspar2020_nr_core_cplx.csv', \n",
    "                 jaspar_table_dir/'jaspar2020_nr_core_mono.csv']\n",
    "tables = [ pd.read_csv(x, index_col=0) for x in tables_to_use]\n",
    "tf_table = pd.concat(tables)\n",
    "# tf_mapping = dict(zip(tf_table['matrix_id'],tf_table['tidy_name']))\n",
    "# tf_mapping = dict(zip(tf_table['matrix_id'],tf_table['family']))\n",
    "motif_name_map = dict(zip(tf_table['matrix_id'], tf_table['tidy_name']))\n",
    "motif_family_map = dict(zip(tf_table['matrix_id'], tf_table['family']))\n",
    "\n",
    "motif_official_names = dict(zip(tf_table['matrix_id'],tf_table['name'] ))"
   ]
  },
  {
   "cell_type": "code",
   "execution_count": 3,
   "metadata": {
    "ExecuteTime": {
     "end_time": "2020-11-30T22:07:16.803731Z",
     "start_time": "2020-11-30T22:07:16.787553Z"
    }
   },
   "outputs": [],
   "source": [
    "tf_cluster_df = pd.read_csv('PATH-TO-ANALYSIS/misc/jaspar2020/jaspar_core.cluster.csv', index_col=0)\n",
    "cluster_dict = {}\n",
    "for _, row in tf_cluster_df.iterrows():\n",
    "    c = row['cluster']\n",
    "    x,y = c.split('_')\n",
    "    c = '_'.join([x,y.zfill(3)])\n",
    "    motif_ids = row['motif_ids'].split(',')\n",
    "    for motif_id in motif_ids:\n",
    "        cluster_dict[motif_id] = c\n"
   ]
  },
  {
   "cell_type": "code",
   "execution_count": 4,
   "metadata": {
    "ExecuteTime": {
     "end_time": "2020-11-30T22:07:16.807324Z",
     "start_time": "2020-11-30T22:07:16.805015Z"
    }
   },
   "outputs": [],
   "source": [
    "sp_list = ['Human','Marmoset','Mouse']\n",
    "nonn = '_noNonN'\n",
    "hyp = 'hypo'\n",
    "dmsn = '.dms1p'\n",
    "# dmsn = ''\n",
    "pq='p'"
   ]
  },
  {
   "cell_type": "code",
   "execution_count": 5,
   "metadata": {
    "ExecuteTime": {
     "end_time": "2020-11-30T22:07:16.810969Z",
     "start_time": "2020-11-30T22:07:16.808609Z"
    }
   },
   "outputs": [],
   "source": [
    "# sample_rename_dict = {'L5_IT':'L5 IT', 'L2_3_IT':'L2/3 IT', 'Lamp5':'Lamp5', 'Pvalb':'Pvalb', \n",
    "#                      'Vip':'Vip', 'Sst':'Sst', 'L6_CT':'L6 CT', 'L6_IT':'L6 IT', \n",
    "#                      'Sst_Chodl':'Sst Chodl', 'Sncg':'Sncg', 'L6b':'L6b', 'L6_IT_Car3':'L6 IT Car3', \n",
    "#                      'L5_6_NP':'L5/6 NP', 'L5_ET':'L5 ET', 'Meis2':'Meis2'}\n",
    "samples = ['L5_IT', 'L2_3_IT', 'Lamp5', 'Pvalb', 'Vip', 'Sst', 'L6_CT', 'L6_IT', \n",
    "           'Sst_Chodl', 'Sncg', 'L6b', 'L6_IT_Car3', 'L5_6_NP', 'L5_ET', \n",
    "           #'Meis2',\n",
    "          ]"
   ]
  },
  {
   "cell_type": "code",
   "execution_count": 6,
   "metadata": {
    "ExecuteTime": {
     "end_time": "2020-11-30T22:07:17.195222Z",
     "start_time": "2020-11-30T22:07:16.812180Z"
    }
   },
   "outputs": [
    {
     "name": "stderr",
     "output_type": "stream",
     "text": [
      "/home/wtian/local/anaconda3/envs/cemba-mapping/lib/python3.7/site-packages/pandas/core/series.py:856: RuntimeWarning: divide by zero encountered in log10\n",
      "  result = getattr(ufunc, method)(*inputs, **kwargs)\n"
     ]
    }
   ],
   "source": [
    "ame_list = {}\n",
    "for sp in sp_list:\n",
    "    if sp not in ame_list:\n",
    "        ame_list[sp] = {}\n",
    "    for i,sample in enumerate(samples):\n",
    "#         amedf = pd.read_csv(f'../cell_type_dmr_using_naive_mapping/{sp}/dmr/ame{nonn}/{sample}.{hyp}{dmsn}.ame.tsv', sep='\\t', index_col=0)\n",
    "        amedf = pd.read_csv(f'PATH-TO-ANALYSIS/{sp}/subclass/ame//{sample}.{hyp}{dmsn}.ame.tsv', sep='\\t', index_col=0)\n",
    "        amedf['log10(p-value)'] = np.log10(amedf['p-value']+1e-300)\n",
    "        amedf['log10(p-value)'] = np.clip(amedf['log10(p-value)'], a_max=None, a_min=-300)\n",
    "        amedf['log10(q-value)'] = np.log10(amedf['adj_p-value']+1e-400)\n",
    "        amedf['log10(q-value)'] = np.clip(amedf['log10(q-value)'], a_max=None, a_min=-400)\n",
    "        ame_list[sp][sample] = amedf"
   ]
  },
  {
   "cell_type": "code",
   "execution_count": 7,
   "metadata": {
    "ExecuteTime": {
     "end_time": "2020-11-30T22:07:17.374903Z",
     "start_time": "2020-11-30T22:07:17.196510Z"
    }
   },
   "outputs": [
    {
     "name": "stderr",
     "output_type": "stream",
     "text": [
      "/home/wtian/local/anaconda3/envs/cemba-mapping/lib/python3.7/site-packages/ipykernel_launcher.py:17: FutureWarning: Sorting because non-concatenation axis is not aligned. A future version\n",
      "of pandas will change to not sort by default.\n",
      "\n",
      "To accept the future behavior, pass 'sort=False'.\n",
      "\n",
      "To retain the current behavior and silence the warning, pass 'sort=True'.\n",
      "\n"
     ]
    }
   ],
   "source": [
    "# fig, axes = plt.subplots(1,len(samples),figsize=(60,8))\n",
    "totdf = []\n",
    "\n",
    "for i,sample in enumerate(samples):\n",
    "    if sample=='Meis2':\n",
    "        continue\n",
    "\n",
    "    indexes = set()\n",
    "    dfs = []\n",
    "    for j,sp in enumerate(sp_list):\n",
    "        amedf = ame_list[sp][sample].set_index('motif_ID')\n",
    "#         amedf = amedf.loc[tfids]\n",
    "        amedf = amedf[['log2(TP/FP)',f'log10({pq}-value)']]\n",
    "        amedf.columns = pd.MultiIndex.from_product([[sample],[sp],amedf.columns])\n",
    "        dfs.append(amedf)\n",
    "#                                                            ascending=True).iloc[:30].index)\n",
    "    df = pd.concat(dfs,axis=1)\n",
    "    totdf.append(df)\n",
    "totdf = pd.concat(totdf, axis=1)\n",
    "\n",
    "totdf.columns = totdf.columns.map(lambda x: '.'.join(x))\n",
    "totdf = totdf.dropna()\n",
    "totdf = totdf[~totdf.index.str.startswith('UN')]\n",
    "\n",
    "totdf.index = totdf.index.map(lambda x: f'{cluster_dict[x]}-{x}')\n",
    "totdf = totdf.sort_index()"
   ]
  },
  {
   "cell_type": "code",
   "execution_count": 8,
   "metadata": {
    "ExecuteTime": {
     "end_time": "2020-11-30T22:07:17.380950Z",
     "start_time": "2020-11-30T22:07:17.376801Z"
    }
   },
   "outputs": [],
   "source": [
    "def _filter(pqvaldf, thresh=30):\n",
    "    return pqvaldf[~(pqvaldf.min(1)>-abs(thresh))]\n",
    "\n",
    "def _clip(pqvaldf, lower=None, upper=100):\n",
    "    return pqvaldf.clip(lower, upper)\n",
    "\n",
    "# def _collapse_tf(pqvaldf, keep_ratio=0.5):\n",
    "    \n",
    "\n",
    "def transform_0(pqvaldf):\n",
    "    df = pqvaldf.copy().dropna()\n",
    "    return \\\n",
    "        _clip(\n",
    "        _filter( \n",
    "            df \n",
    "        ))\n",
    "    \n",
    "def transform_1(pqvaldf):\n",
    "    df = pqvaldf.copy().dropna()\n",
    "    return \\\n",
    "        _clip(\n",
    "        _filter( \n",
    "            df \n",
    "        ,thresh=50)\n",
    "        ,upper=100)\n"
   ]
  },
  {
   "cell_type": "markdown",
   "metadata": {},
   "source": [
    "# profile similarity"
   ]
  },
  {
   "cell_type": "code",
   "execution_count": 9,
   "metadata": {
    "ExecuteTime": {
     "end_time": "2020-11-30T22:07:17.386903Z",
     "start_time": "2020-11-30T22:07:17.382484Z"
    }
   },
   "outputs": [],
   "source": [
    "def mscatter(x,y,ax=None, m=None, **kw):\n",
    "    import matplotlib.markers as mmarkers\n",
    "    if not ax: ax=plt.gca()\n",
    "    sc = ax.scatter(x,y,**kw)\n",
    "    if (m is not None) and (len(m)==len(x)):\n",
    "        paths = []\n",
    "        for marker in m:\n",
    "            if isinstance(marker, mmarkers.MarkerStyle):\n",
    "                marker_obj = marker\n",
    "            else:\n",
    "                marker_obj = mmarkers.MarkerStyle(marker)\n",
    "            path = marker_obj.get_path().transformed(\n",
    "                        marker_obj.get_transform())\n",
    "            paths.append(path)\n",
    "        sc.set_paths(paths)\n",
    "    return sc"
   ]
  },
  {
   "cell_type": "code",
   "execution_count": 10,
   "metadata": {
    "ExecuteTime": {
     "end_time": "2020-11-30T22:07:17.396472Z",
     "start_time": "2020-11-30T22:07:17.388021Z"
    }
   },
   "outputs": [],
   "source": [
    "pqvaldf = totdf[totdf.columns[totdf.columns.str.endswith(f'.log10({pq}-value)')]]\n",
    "tmpdf = _clip(\n",
    "            _filter(pqvaldf.copy().dropna(), 30)\n",
    "        ,lower=-100)"
   ]
  },
  {
   "cell_type": "code",
   "execution_count": 11,
   "metadata": {
    "ExecuteTime": {
     "end_time": "2020-11-30T22:07:17.400377Z",
     "start_time": "2020-11-30T22:07:17.397608Z"
    }
   },
   "outputs": [],
   "source": [
    "marker_color_dict = {\n",
    "                    'Lamp5' : '#DA808C',\n",
    "                    'Sncg' : '#D633FF',\n",
    "                    'Vip' : '#B864CC',\n",
    "                    'Sst_Chodl' : '#FFEA00',\n",
    "                    'Sst' : '#FF9900',\n",
    "                    'Pvalb' : '#D93137',\n",
    "                    'L2_3_IT' : '#C4EC04',\n",
    "                    'L5_IT' : '#50B2AD',\n",
    "                    'L6_IT' : '#A19922',\n",
    "                    'L6_IT_Car3' : '#5100FF',\n",
    "                    'L5_ET' : '#0D5B78',\n",
    "                    'L5_6_NP' : '#3E9E64',\n",
    "                    'L6_CT' : '#2D8CB8',\n",
    "                    'L6b' : '#53377D',\n",
    "}"
   ]
  },
  {
   "cell_type": "code",
   "execution_count": 12,
   "metadata": {
    "ExecuteTime": {
     "end_time": "2020-11-30T22:07:17.409633Z",
     "start_time": "2020-11-30T22:07:17.401505Z"
    }
   },
   "outputs": [],
   "source": [
    "from matplotlib.patches import Patch\n",
    "from matplotlib.lines import Line2D\n",
    "\n",
    "legend_elements = [\n",
    "                   Line2D([0], [0], marker='o', color='w', label='Human',markeredgecolor='k',markersize=20),\n",
    "                   Line2D([0], [0], marker='s', color='w', label='Marmoset',markeredgecolor='k',markersize=20),\n",
    "                   Line2D([0], [0], marker='v', color='w', label='Mouse',markeredgecolor='k',markersize=20),\n",
    "                   Line2D([0], [0], marker='v', color='w', label='',markersize=10),\n",
    "                    Patch(label='Lamp5'           , color='#DA808C' ),\n",
    "                    Patch(label='Sncg'            , color='#D633FF' ),\n",
    "                    Patch(label='Vip'             , color='#B864CC' ),\n",
    "                    Patch(label='Sst Chodl'       , color='#FFEA00' ),\n",
    "                    Patch(label='Sst'             , color='#FF9900' ),\n",
    "                    Patch(label='Pvalb'           , color='#D93137' ),\n",
    "                    Patch(label='L2/3 IT'         , color='#C4EC04' ),\n",
    "                    Patch(label='L5 IT'           , color='#50B2AD' ),\n",
    "                    Patch(label='L6 IT'           , color='#A19922' ),\n",
    "                    Patch(label='L6 IT Car3'      , color='#5100FF' ),\n",
    "                    Patch(label='L5 ET'           , color='#0D5B78' ),\n",
    "                    Patch(label='L5/6 NP'         , color='#3E9E64' ),\n",
    "                    Patch(label='L6 CT'           , color='#2D8CB8' ),\n",
    "                    Patch(label='L6b'             , color='#53377D' ),\n",
    "]\n"
   ]
  },
  {
   "cell_type": "code",
   "execution_count": 13,
   "metadata": {
    "ExecuteTime": {
     "end_time": "2020-11-30T22:07:17.739205Z",
     "start_time": "2020-11-30T22:07:17.410855Z"
    }
   },
   "outputs": [
    {
     "data": {
      "image/png": "[encoded data removed]",
      "text/plain": [
       "<Figure size 720x720 with 1 Axes>"
      ]
     },
     "metadata": {
      "needs_background": "light"
     },
     "output_type": "display_data"
    }
   ],
   "source": [
    "newdf = tmpdf.T\n",
    "# newdf = transform_1(pqvaldf).T\n",
    "\n",
    "marker_colors = [marker_color_dict[x] for x in newdf.index.str.split('.',expand=True).droplevel(1).droplevel(1)]\n",
    "\n",
    "metric = 'cosine'\n",
    "\n",
    "tsne = TSNE(perplexity=5, metric=metric)\n",
    "reduced = tsne.fit_transform(newdf)\n",
    "#     pd.DataFrame(reduced, index = newdf.index, columns=['tsne_0','tsne_1']).to_csv('tf_profile.tsne2.txt')\n",
    "\n",
    "plt.figure(figsize = (10,10))\n",
    "mscatter(reduced[:,0], reduced[:,1], m=['o','s','v']*(len(reduced)//3), s=400, c=marker_colors)\n",
    "plt.gca().legend(handles=legend_elements, loc='lower right')\n",
    "# for i, txt in enumerate(newdf.index):\n",
    "#     plt.gca().annotate(txt, (reduced[i,0], reduced[i,1]))\n",
    "plt.gca().set_xticklabels([])\n",
    "plt.gca().set_yticklabels([])\n",
    "plt.gca().tick_params(length=0)\n",
    "plt.show()"
   ]
  }
 ],
 "metadata": {
  "hide_input": false,
  "kernelspec": {
   "display_name": "Python [conda env:cemba-mapping]",
   "language": "python",
   "name": "conda-env-cemba-mapping-py"
  },
  "language_info": {
   "codemirror_mode": {
    "name": "ipython",
    "version": 3
   },
   "file_extension": ".py",
   "mimetype": "text/x-python",
   "name": "python",
   "nbconvert_exporter": "python",
   "pygments_lexer": "ipython3",
   "version": "3.7.0"
  },
  "toc": {
   "base_numbering": 1,
   "nav_menu": {},
   "number_sections": true,
   "sideBar": true,
   "skip_h1_title": false,
   "title_cell": "Table of Contents",
   "title_sidebar": "Contents",
   "toc_cell": false,
   "toc_position": {},
   "toc_section_display": true,
   "toc_window_display": false
  },
  "varInspector": {
   "cols": {
    "lenName": 16,
    "lenType": 16,
    "lenVar": 40
   },
   "kernels_config": {
    "python": {
     "delete_cmd_postfix": "",
     "delete_cmd_prefix": "del ",
     "library": "var_list.py",
     "varRefreshCmd": "print(var_dic_list())"
    },
    "r": {
     "delete_cmd_postfix": ") ",
     "delete_cmd_prefix": "rm(",
     "library": "var_list.r",
     "varRefreshCmd": "cat(var_dic_list()) "
    }
   },
   "types_to_exclude": [
    "module",
    "function",
    "builtin_function_or_method",
    "instance",
    "_Feature"
   ],
   "window_display": false
  }
 },
 "nbformat": 4,
 "nbformat_minor": 2
}
