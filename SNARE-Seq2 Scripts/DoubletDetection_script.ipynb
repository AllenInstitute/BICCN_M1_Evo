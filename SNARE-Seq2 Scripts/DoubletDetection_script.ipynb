{
 "cells": [
  {
   "cell_type": "code",
   "execution_count": null,
   "metadata": {},
   "outputs": [],
   "source": [
    "import numpy as np\n",
    "import scipy.io\n",
    "import doubletdetection\n",
    "import tarfile\n",
    "import time\n",
    "import matplotlib.pyplot as plt"
   ]
  },
  {
   "cell_type": "code",
   "execution_count": null,
   "metadata": {},
   "outputs": [],
   "source": [
    "input_dir = '/path/to/dir'\n",
    "raw_counts = scipy.io.mmread(input_dir + '/SNARE2-R_UMI_counts_dTn6_EmptyBC_MT-Filter.mtx').T.tocsc()\n",
    "\n",
    "print('Counts matrix shape: {} rows, {} columns'.format(raw_counts.shape[0], raw_counts.shape[1]))\n"
   ]
  },
  {
   "cell_type": "code",
   "execution_count": null,
   "metadata": {},
   "outputs": [],
   "source": [
    "%%capture\n",
    "\n",
    "clf = doubletdetection.BoostClassifier(n_iters=50)\n",
    " \n",
    "start = time.time()\n",
    "doublets = clf.fit(raw_counts).predict(p_thresh=1e-7, voter_thresh=0.8)\n",
    "end = time.time()"
   ]
  },
  {
   "cell_type": "code",
   "execution_count": null,
   "metadata": {},
   "outputs": [],
   "source": [
    "print('Time elapsed: {:.2f} seconds, {:.2f}sec/iteration, for {} iterations'.format(end-start, (end-start) / clf.n_iters, clf.n_iters))"
   ]
  },
  {
   "cell_type": "code",
   "execution_count": null,
   "metadata": {},
   "outputs": [],
   "source": [
    "#Visualize Results"
   ]
  },
  {
   "cell_type": "code",
   "execution_count": null,
   "metadata": {},
   "outputs": [],
   "source": [
    "f = doubletdetection.plot.convergence(clf, save='/SNARE2-R_dTn6_convergence_test.pdf', show=True, p_thresh=1e-7, voter_thresh=0.8)"
   ]
  },
  {
   "cell_type": "code",
   "execution_count": null,
   "metadata": {},
   "outputs": [],
   "source": [
    "f2, tsne_coords, clusters = doubletdetection.plot.tsne(raw_counts, doublets, random_state=1, \n",
    "    save='/SNARE2-R_dTn6_tsne_test.pdf', show=True)"
   ]
  },
  {
   "cell_type": "code",
   "execution_count": null,
   "metadata": {},
   "outputs": [],
   "source": [
    "f3 = doubletdetection.plot.threshold(clf, save='/SNARE2-R_dTn6_threshold_test.pdf', show=True, p_step=6)"
   ]
  },
  {
   "cell_type": "code",
   "execution_count": null,
   "metadata": {},
   "outputs": [],
   "source": [
    "doublets"
   ]
  },
  {
   "cell_type": "code",
   "execution_count": null,
   "metadata": {},
   "outputs": [],
   "source": [
    "with open('/SNARE2-R_dTn6_DoubletDetection_doublets.txt', 'w') as file_handler:\n",
    "    for item in doublets:\n",
    "        file_handler.write(\"{}\\n\".format(item))"
   ]
  }
 ],
 "metadata": {
  "kernelspec": {
   "display_name": "b1lake",
   "language": "python",
   "name": "b1lake"
  },
  "language_info": {
   "codemirror_mode": {
    "name": "ipython",
    "version": 3
   },
   "file_extension": ".py",
   "mimetype": "text/x-python",
   "name": "python",
   "nbconvert_exporter": "python",
   "pygments_lexer": "ipython3",
   "version": "3.5.6"
  }
 },
 "nbformat": 4,
 "nbformat_minor": 2
}
